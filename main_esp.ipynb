{
 "cells": [
  {
   "cell_type": "markdown",
   "metadata": {},
   "source": [
    "## Palabras"
   ]
  },
  {
   "cell_type": "code",
   "execution_count": null,
   "metadata": {},
   "outputs": [],
   "source": [
    "words = ['play', 'filling', 'bar', 'theatre', 'easygoing', 'date', 'lead', 'that', 'story',  'island']"
   ]
  },
  {
   "cell_type": "markdown",
   "metadata": {},
   "source": [
    "**Imprime todas las letras en mayuscula**"
   ]
  },
  {
   "cell_type": "code",
   "execution_count": 95,
   "metadata": {},
   "outputs": [
    {
     "name": "stdout",
     "output_type": "stream",
     "text": [
      "P\n",
      "L\n",
      "A\n",
      "Y\n",
      "F\n",
      "I\n",
      "L\n",
      "L\n",
      "I\n",
      "N\n",
      "G\n",
      "B\n",
      "A\n",
      "R\n",
      "T\n",
      "H\n",
      "E\n",
      "A\n",
      "T\n",
      "R\n",
      "E\n",
      "E\n",
      "A\n",
      "S\n",
      "Y\n",
      "G\n",
      "O\n",
      "I\n",
      "N\n",
      "G\n",
      "D\n",
      "A\n",
      "T\n",
      "E\n",
      "L\n",
      "E\n",
      "A\n",
      "D\n",
      "T\n",
      "H\n",
      "A\n",
      "T\n",
      "S\n",
      "T\n",
      "O\n",
      "R\n",
      "Y\n",
      "I\n",
      "S\n",
      "L\n",
      "A\n",
      "N\n",
      "D\n"
     ]
    }
   ],
   "source": [
    "words = ['play', 'filling', 'bar', 'theatre', 'easygoing', 'date', 'lead', 'that', 'story',  'island']\n",
    "for palabra in words:\n",
    " for letra in palabra:\n",
    "     print(letra.capitalize())"
   ]
  },
  {
   "cell_type": "markdown",
   "metadata": {},
   "source": [
    "**Crea una nueva lista que contenga 5 o más letras**"
   ]
  },
  {
   "cell_type": "code",
   "execution_count": 99,
   "metadata": {},
   "outputs": [],
   "source": [
    "words2 = ['sol', 'luna', 'nube', 'trueno', 'lluvia', 'tormenta', 'cielo']\n"
   ]
  },
  {
   "cell_type": "markdown",
   "metadata": {},
   "source": [
    "**Imprime la primera palabra que empiece por 't'**"
   ]
  },
  {
   "cell_type": "code",
   "execution_count": 101,
   "metadata": {},
   "outputs": [
    {
     "name": "stdout",
     "output_type": "stream",
     "text": [
      "trueno\n"
     ]
    }
   ],
   "source": [
    "for i in words2:\n",
    "    if i.startswith(\"t\"):\n",
    "        print(i)\n",
    "        break"
   ]
  },
  {
   "cell_type": "markdown",
   "metadata": {},
   "source": [
    "## Numeros"
   ]
  },
  {
   "cell_type": "markdown",
   "metadata": {},
   "source": [
    "**Crea una lista que contenga el cuadraro de cada numero entre 1 y 10**"
   ]
  },
  {
   "cell_type": "code",
   "execution_count": 16,
   "metadata": {},
   "outputs": [
    {
     "data": {
      "text/plain": [
       "[0, 1, 4, 9, 16, 25, 36, 49, 64, 81, 100]"
      ]
     },
     "execution_count": 16,
     "metadata": {},
     "output_type": "execute_result"
    }
   ],
   "source": [
    "# tu codigo aquí\n",
    "cuadrados = []\n",
    "for i in range(0,11):\n",
    "    cuadrados.append(i**2)\n",
    "cuadrados"
   ]
  },
  {
   "cell_type": "markdown",
   "metadata": {},
   "source": [
    "**Imprime una lista que contenga el cuadrado de cada número impar del 1 al 10**"
   ]
  },
  {
   "cell_type": "code",
   "execution_count": 28,
   "metadata": {},
   "outputs": [
    {
     "data": {
      "text/plain": [
       "[1, 9, 25, 49, 81]"
      ]
     },
     "execution_count": 28,
     "metadata": {},
     "output_type": "execute_result"
    }
   ],
   "source": [
    "# tu codigo aquí\n",
    "cuadrados_impares = []\n",
    "for i in range(0,11):\n",
    "    if (i % 2 != 0):\n",
    "        cuadrados_impares.append(i**2)\n",
    "cuadrados_impares"
   ]
  },
  {
   "cell_type": "markdown",
   "metadata": {},
   "source": [
    "**Crear una lista con los cuadrados de todos los múltiplos de 8 por debajo de 1000**"
   ]
  },
  {
   "cell_type": "code",
   "execution_count": 38,
   "metadata": {},
   "outputs": [
    {
     "data": {
      "text/plain": [
       "[64,\n",
       " 256,\n",
       " 576,\n",
       " 1024,\n",
       " 1600,\n",
       " 2304,\n",
       " 3136,\n",
       " 4096,\n",
       " 5184,\n",
       " 6400,\n",
       " 7744,\n",
       " 9216,\n",
       " 10816,\n",
       " 12544,\n",
       " 14400,\n",
       " 16384,\n",
       " 18496,\n",
       " 20736,\n",
       " 23104,\n",
       " 25600,\n",
       " 28224,\n",
       " 30976,\n",
       " 33856,\n",
       " 36864,\n",
       " 40000,\n",
       " 43264,\n",
       " 46656,\n",
       " 50176,\n",
       " 53824,\n",
       " 57600,\n",
       " 61504,\n",
       " 65536,\n",
       " 69696,\n",
       " 73984,\n",
       " 78400,\n",
       " 82944,\n",
       " 87616,\n",
       " 92416,\n",
       " 97344,\n",
       " 102400,\n",
       " 107584,\n",
       " 112896,\n",
       " 118336,\n",
       " 123904,\n",
       " 129600,\n",
       " 135424,\n",
       " 141376,\n",
       " 147456,\n",
       " 153664,\n",
       " 160000,\n",
       " 166464,\n",
       " 173056,\n",
       " 179776,\n",
       " 186624,\n",
       " 193600,\n",
       " 200704,\n",
       " 207936,\n",
       " 215296,\n",
       " 222784,\n",
       " 230400,\n",
       " 238144,\n",
       " 246016,\n",
       " 254016,\n",
       " 262144,\n",
       " 270400,\n",
       " 278784,\n",
       " 287296,\n",
       " 295936,\n",
       " 304704,\n",
       " 313600,\n",
       " 322624,\n",
       " 331776,\n",
       " 341056,\n",
       " 350464,\n",
       " 360000,\n",
       " 369664,\n",
       " 379456,\n",
       " 389376,\n",
       " 399424,\n",
       " 409600,\n",
       " 419904,\n",
       " 430336,\n",
       " 440896,\n",
       " 451584,\n",
       " 462400,\n",
       " 473344,\n",
       " 484416,\n",
       " 495616,\n",
       " 506944,\n",
       " 518400,\n",
       " 529984,\n",
       " 541696,\n",
       " 553536,\n",
       " 565504,\n",
       " 577600,\n",
       " 589824,\n",
       " 602176,\n",
       " 614656,\n",
       " 627264,\n",
       " 640000,\n",
       " 652864,\n",
       " 665856,\n",
       " 678976,\n",
       " 692224,\n",
       " 705600,\n",
       " 719104,\n",
       " 732736,\n",
       " 746496,\n",
       " 760384,\n",
       " 774400,\n",
       " 788544,\n",
       " 802816,\n",
       " 817216,\n",
       " 831744,\n",
       " 846400,\n",
       " 861184,\n",
       " 876096,\n",
       " 891136,\n",
       " 906304,\n",
       " 921600,\n",
       " 937024,\n",
       " 952576,\n",
       " 968256,\n",
       " 984064,\n",
       " 1000000]"
      ]
     },
     "execution_count": 38,
     "metadata": {},
     "output_type": "execute_result"
    }
   ],
   "source": [
    "# tu codigo aquí\n",
    "cuadrados_8 = []\n",
    "for i in range (1,1001):\n",
    "    if(i % 8 == 0):\n",
    "        cuadrados_8.append(i**2)\n",
    "cuadrados_8"
   ]
  },
  {
   "cell_type": "markdown",
   "metadata": {},
   "source": [
    "## People"
   ]
  },
  {
   "cell_type": "code",
   "execution_count": 52,
   "metadata": {},
   "outputs": [],
   "source": [
    "people = [\n",
    "    {\n",
    "        \"name\": \"Juan\",\n",
    "        \"age\": 34,\n",
    "        \"n_kids\": 2\n",
    "    },\n",
    "    {\n",
    "        \"name\": \"Pepe\",\n",
    "        \"age\": 27,\n",
    "        \"n_kids\": 0\n",
    "    },\n",
    "    {\n",
    "        \"name\": \"Sonia\",\n",
    "        \"age\": 41,\n",
    "        \"n_kids\": 1\n",
    "    },\n",
    "    {\n",
    "        \"name\": \"Lucía\",\n",
    "        \"age\": 22,\n",
    "        \"n_kids\": 2\n",
    "    },\n",
    "    {\n",
    "        \"name\": \"Leo\",\n",
    "        \"age\": 55,\n",
    "        \"n_kids\": 5\n",
    "    }\n",
    "]"
   ]
  },
  {
   "cell_type": "markdown",
   "metadata": {},
   "source": [
    "**Cuánta gente hay?**"
   ]
  },
  {
   "cell_type": "code",
   "execution_count": 61,
   "metadata": {},
   "outputs": [
    {
     "data": {
      "text/plain": [
       "5"
      ]
     },
     "execution_count": 61,
     "metadata": {},
     "output_type": "execute_result"
    }
   ],
   "source": [
    "# your code here\n",
    "len(people)"
   ]
  },
  {
   "cell_type": "markdown",
   "metadata": {},
   "source": [
    "**Cuanta gente tiene hijos**?"
   ]
  },
  {
   "cell_type": "code",
   "execution_count": 63,
   "metadata": {},
   "outputs": [
    {
     "data": {
      "text/plain": [
       "4"
      ]
     },
     "execution_count": 63,
     "metadata": {},
     "output_type": "execute_result"
    }
   ],
   "source": [
    "# your code here\n",
    "people_with_kids = 0\n",
    "for list_item in people:\n",
    "    if list_item.get(\"n_kids\") > 0:\n",
    "        people_with_kids +=1\n",
    "people_with_kids"
   ]
  },
  {
   "cell_type": "markdown",
   "metadata": {},
   "source": [
    "**Cuantos hijos tienen en total?**"
   ]
  },
  {
   "cell_type": "code",
   "execution_count": 105,
   "metadata": {},
   "outputs": [
    {
     "data": {
      "text/plain": [
       "10"
      ]
     },
     "execution_count": 105,
     "metadata": {},
     "output_type": "execute_result"
    }
   ],
   "source": [
    "# your code here\n",
    "total_hijos = 0\n",
    "for list_item in people:\n",
    "        total_hijos +=list_item.get(\"n_kids\")\n",
    "total_hijos    "
   ]
  },
  {
   "cell_type": "markdown",
   "metadata": {},
   "source": [
    "total_hijos = 0\n",
    "for list_item in people:\n",
    "        total_hijos +=list_item.get(\"n_kids\")\n",
    "total_hijos**En un año, los nombres que terminen en \"a\" tendrán un niño extra. Crea una lista de diccionarios con la información de las personas en un año**"
   ]
  },
  {
   "cell_type": "code",
   "execution_count": 108,
   "metadata": {},
   "outputs": [
    {
     "data": {
      "text/plain": [
       "[{'name': 'Juan', 'age': 34, 'n_kids': 2},\n",
       " {'name': 'Pepe', 'age': 27, 'n_kids': 0},\n",
       " {'name': 'Sonia', 'age': 41, 'n_kids': 2},\n",
       " {'name': 'Lucía', 'age': 22, 'n_kids': 3},\n",
       " {'name': 'Leo', 'age': 55, 'n_kids': 5}]"
      ]
     },
     "execution_count": 108,
     "metadata": {},
     "output_type": "execute_result"
    }
   ],
   "source": [
    "# your code here\n",
    "people_next_year = []\n",
    "people_next_year.extend(people)\n",
    "for i, list_item in enumerate(people_next_year):\n",
    "        if list_item.get(\"name\").endswith(\"a\"):\n",
    "            people_next_year[i] = {\"name\": list_item.get(\"name\"),\n",
    "                                  \"age\": list_item.get(\"age\"),\n",
    "                                  \"n_kids\": list_item.get(\"n_kids\")+1}\n",
    "            \n",
    "people_next_year"
   ]
  },
  {
   "cell_type": "code",
   "execution_count": null,
   "metadata": {},
   "outputs": [],
   "source": []
  }
 ],
 "metadata": {
  "kernelspec": {
   "display_name": "Python 3 (ipykernel)",
   "language": "python",
   "name": "python3"
  },
  "language_info": {
   "codemirror_mode": {
    "name": "ipython",
    "version": 3
   },
   "file_extension": ".py",
   "mimetype": "text/x-python",
   "name": "python",
   "nbconvert_exporter": "python",
   "pygments_lexer": "ipython3",
   "version": "3.12.4"
  },
  "toc": {
   "base_numbering": 1,
   "nav_menu": {},
   "number_sections": false,
   "sideBar": true,
   "skip_h1_title": false,
   "title_cell": "Table of Contents",
   "title_sidebar": "Contents",
   "toc_cell": false,
   "toc_position": {},
   "toc_section_display": true,
   "toc_window_display": true
  },
  "varInspector": {
   "cols": {
    "lenName": 16,
    "lenType": 16,
    "lenVar": 40
   },
   "kernels_config": {
    "python": {
     "delete_cmd_postfix": "",
     "delete_cmd_prefix": "del ",
     "library": "var_list.py",
     "varRefreshCmd": "print(var_dic_list())"
    },
    "r": {
     "delete_cmd_postfix": ") ",
     "delete_cmd_prefix": "rm(",
     "library": "var_list.r",
     "varRefreshCmd": "cat(var_dic_list()) "
    }
   },
   "types_to_exclude": [
    "module",
    "function",
    "builtin_function_or_method",
    "instance",
    "_Feature"
   ],
   "window_display": false
  },
  "vscode": {
   "interpreter": {
    "hash": "aee8b7b246df8f9039afb4144a1f6fd8d2ca17a180786b69acc140d282b71a49"
   }
  }
 },
 "nbformat": 4,
 "nbformat_minor": 4
}
